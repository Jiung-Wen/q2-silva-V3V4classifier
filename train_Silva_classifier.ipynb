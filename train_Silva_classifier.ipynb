{
 "cells": [
  {
   "cell_type": "code",
   "execution_count": null,
   "metadata": {},
   "outputs": [],
   "source": [
    "import qiime2\n",
    "from qiime2 import Artifact\n",
    "from qiime2.plugins.feature_classifier.methods import classify_sklearn,\\\n",
    "                                                      extract_reads, \\\n",
    "                                                      fit_classifier_naive_bayes\n",
    "\n",
    "# Training feature classifiers with q2-feature-classifier\n",
    "# https://docs.qiime2.org/2019.1/tutorials/feature-classifier/\n",
    "silva_132 = Artifact.import_data('FeatureData[Sequence]',\n",
    "                                 'rep_set/rep_set_16S_only/99/silva_132_99_16S.fna')\n",
    "\n",
    "silva_132_taxonomy = Artifact.import_data('FeatureData[Taxonomy]',\n",
    "                                          'taxonomy/16S_only/99/majority_taxonomy_7_levels.txt',\n",
    "                                           view_type = 'HeaderlessTSVTaxonomyFormat')\n",
    "   \n",
    "# extract reference reads\n",
    "# V3-V4: 341f: CCTACGGGNGGCWGCAG; 806r: GACTACHVGGGTATCTAATCC\n",
    "ref_seqs_s = extract_reads(sequences = silva_132,\n",
    "                           f_primer = 'CCTACGGGNGGCWGCAG',\n",
    "                           r_primer = 'GACTACHVGGGTATCTAATCC')\n",
    "\n",
    "# train the classifier\n",
    "silva_classifier = fit_classifier_naive_bayes(reference_reads = ref_seqs_s.reads,\n",
    "                                              reference_taxonomy = silva_132_taxonomy)\n",
    "\n",
    "# save the classifier\n",
    "silva_classifier.classifier.save('silva_132_99_v3v4')"
   ]
  }
 ],
 "metadata": {
  "kernelspec": {
   "display_name": "Python 3",
   "language": "python",
   "name": "python3"
  },
  "language_info": {
   "codemirror_mode": {
    "name": "ipython",
    "version": 3
   },
   "file_extension": ".py",
   "mimetype": "text/x-python",
   "name": "python",
   "nbconvert_exporter": "python",
   "pygments_lexer": "ipython3",
   "version": "3.6.5"
  }
 },
 "nbformat": 4,
 "nbformat_minor": 2
}
